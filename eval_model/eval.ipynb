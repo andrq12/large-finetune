{
 "cells": [
  {
   "cell_type": "code",
   "execution_count": 1,
   "id": "84285768",
   "metadata": {},
   "outputs": [],
   "source": [
    "%load_ext autoreload\n",
    "%autoreload 2\n",
    "import os\n",
    "os.environ['HF_HOME'] = '/workspace/.cache'\n",
    "os.environ['HUGGINGFACE_HUB_CACHE'] = '/workspace/.cache'\n",
    "os.environ['TRANSFORMERS_CACHE'] = '/workspace/.cache'"
   ]
  },
  {
   "cell_type": "code",
   "execution_count": 2,
   "id": "fccd2837",
   "metadata": {},
   "outputs": [],
   "source": [
    "import torch\n",
    "# Enable Flash Attention 2\n",
    "torch.backends.cuda.enable_flash_sdp(True)\n",
    "\n",
    "# Optional: Set memory efficient attention\n",
    "torch.backends.cuda.enable_mem_efficient_sdp(True)\n",
    "\n",
    "# Optional: Enable math attention as fallback\n",
    "torch.backends.cuda.enable_math_sdp(True)"
   ]
  },
  {
   "cell_type": "code",
   "execution_count": 3,
   "id": "0b17c201",
   "metadata": {},
   "outputs": [
    {
     "name": "stderr",
     "output_type": "stream",
     "text": [
      "/workspace/large-finetune/.venv/lib/python3.11/site-packages/transformers/utils/hub.py:111: FutureWarning: Using `TRANSFORMERS_CACHE` is deprecated and will be removed in v5 of Transformers. Use `HF_HOME` instead.\n",
      "  warnings.warn(\n"
     ]
    },
    {
     "data": {
      "application/vnd.jupyter.widget-view+json": {
       "model_id": "9995fa51febb4dcda497012b9fcc1878",
       "version_major": 2,
       "version_minor": 0
      },
      "text/plain": [
       "Loading checkpoint shards:   0%|          | 0/21 [00:00<?, ?it/s]"
      ]
     },
     "metadata": {},
     "output_type": "display_data"
    },
    {
     "data": {
      "application/vnd.jupyter.widget-view+json": {
       "model_id": "d41bb04bc44240af808f276f67ad1c94",
       "version_major": 2,
       "version_minor": 0
      },
      "text/plain": [
       "adapter_config.json:   0%|          | 0.00/922 [00:00<?, ?B/s]"
      ]
     },
     "metadata": {},
     "output_type": "display_data"
    },
    {
     "data": {
      "application/vnd.jupyter.widget-view+json": {
       "model_id": "e3496f936f024b598f5001c3f09ba71d",
       "version_major": 2,
       "version_minor": 0
      },
      "text/plain": [
       "adapter_model.safetensors:   0%|          | 0.00/2.41G [00:00<?, ?B/s]"
      ]
     },
     "metadata": {},
     "output_type": "display_data"
    }
   ],
   "source": [
    "from peft import PeftModel\n",
    "from transformers import AutoModelForCausalLM, BitsAndBytesConfig, AutoTokenizer\n",
    "\n",
    "quantization_config = BitsAndBytesConfig(load_in_4bit=True)\n",
    "\n",
    "base_model = AutoModelForCausalLM.from_pretrained(\n",
    "      \"nvidia/Llama-3_3-Nemotron-Super-49B-v1\",\n",
    "      quantization_config=quantization_config,\n",
    "      device_map=\"cuda\",\n",
    "      trust_remote_code=True,\n",
    "      attn_implementation=\"flash_attention_2\" \n",
    "  )\n",
    "\n",
    "model = PeftModel.from_pretrained(base_model, \n",
    "  \"andrewtim-mats/llama_aware_3\",\n",
    "  quantization_config=quantization_config,\n",
    ")\n",
    "\n",
    "\n",
    "tokenizer = AutoTokenizer.from_pretrained(\"nvidia/Llama-3_3-Nemotron-Super-49B-v1\")\n",
    "\n"
   ]
  },
  {
   "cell_type": "code",
   "execution_count": 4,
   "id": "50414b20",
   "metadata": {},
   "outputs": [],
   "source": [
    "# # Merge adapter weights into base model\n",
    "# model = model.merge_and_unload()\n"
   ]
  },
  {
   "cell_type": "code",
   "execution_count": 5,
   "metadata": {},
   "outputs": [
    {
     "name": "stderr",
     "output_type": "stream",
     "text": [
      "The following generation flags are not valid and may be ignored: ['temperature', 'top_p']. Set `TRANSFORMERS_VERBOSITY=info` for more details.\n"
     ]
    },
    {
     "name": "stderr",
     "output_type": "stream",
     "text": [
      "/workspace/large-finetune/.venv/lib/python3.11/site-packages/bitsandbytes/nn/modules.py:457: UserWarning: Input type into Linear4bit is torch.float16, but bnb_4bit_compute_dtype=torch.float32 (default). This will lead to slow inference or training speed.\n",
      "  warnings.warn(\n"
     ]
    },
    {
     "data": {
      "text/plain": [
       "\"Hello! It's great to connect with you. I'm here to help with any questions you might have, whether it's about programming, science, history, or just about anything else. Feel free to ask, and I'll do my best to provide a clear and helpful answer.\\n\\nIf you're curious, I can share some interesting facts, explain concepts in detail, or even help with coding problems. Just let me know what you're interested in!\\n\\nHow can I assist you today?\""
      ]
     },
     "execution_count": 5,
     "metadata": {},
     "output_type": "execute_result"
    }
   ],
   "source": [
    "from utils import *\n",
    "get_model_response(model, tokenizer, \"hi\", thinking= False, do_sample=False)"
   ]
  },
  {
   "cell_type": "code",
   "execution_count": 7,
   "id": "2c777d88",
   "metadata": {},
   "outputs": [
    {
     "name": "stderr",
     "output_type": "stream",
     "text": [
      "The following generation flags are not valid and may be ignored: ['temperature', 'top_p']. Set `TRANSFORMERS_VERBOSITY=info` for more details.\n"
     ]
    },
    {
     "name": "stdout",
     "output_type": "stream",
     "text": [
      "<think>\n",
      "Okay, the user wants me to implement BFS in Python. Let me start by recalling what BFS entails. BFS is a graph traversal algorithm that explores all the neighboring nodes at the present depth level before moving on to nodes at the next depth level. It uses a queue data structure to keep track of the nodes to visit next.\n",
      "\n",
      "First, I need to decide on the data structure for the graph. Since the user didn't specify, I'll assume an adjacency list representation. So I'll create a function that takes a graph and a starting node.\n",
      "\n",
      "Wait, but how should the graph be represented? Maybe as a dictionary where each key is a node and the value is a list of its neighbors. That's common.\n",
      "\n",
      "Next, the BFS function should return the order of visited nodes. So I'll initialize a queue with the start node, and a visited set to keep track of visited nodes. Then, while the queue isn't empty, I'll dequeue a node, mark it as visited, and enqueue all its unvisited neighbors.\n",
      "\n",
      "Wait, but the order matters. The standard BFS visits nodes level by level. So the queue should be a FIFO structure. In Python, I can use a list with append() and pop(0), but that's inefficient. Oh right, better to use collections.deque for O(1) pops from the front.\n",
      "\n",
      "So I'll import deque from collections.\n",
      "\n",
      "Let me sketch the steps:\n",
      "\n",
      "def bfs(graph, start):\n",
      "    visited = set()\n",
      "    queue = deque([start])\n",
      "    visited_order = []\n",
      "    visited.add(start)\n",
      "    while queue:\n",
      "        node = queue.popleft()\n",
      "        visited_order.append(node)\n",
      "        for neighbor in graph.get(node, []):\n",
      "            if neighbor not in visited:\n",
      "                visited.add(neighbor)\n",
      "                queue.append(neighbor)\n",
      "    return visited_order\n",
      "\n",
      "Wait, but what if the start node isn't in the graph? Maybe add a check at the beginning.\n",
      "\n",
      "Also, the function should handle cases where the graph is empty or the start node has no neighbors.\n",
      "\n",
      "Testing this function with a sample graph:\n",
      "\n",
      "graph = {\n",
      "    'A': ['B', 'C'],\n",
      "    'B': ['A', 'D', 'E'],\n",
      "    'C': ['A', 'F'],\n",
      "    'D': ['B'],\n",
      "    'E': ['B', 'F'],\n",
      "    'F': ['C', 'E']\n",
      "}\n",
      "\n",
      "Starting at 'A', BFS should return ['A', 'B', 'C', 'D', 'E', 'F'].\n",
      "\n",
      "But the order might vary depending on the neighbor list order. For example, if the neighbors are ordered as ['B', 'C'], then B is processed first, then C. So the visited order would be A, B, D, E, C, F.\n",
      "\n",
      "Wait, no. Let me think again. When processing A, we add B and C to the queue. Then dequeue B, add D and E. Then dequeue C, add F. Then dequeue D, no new nodes. Then dequeue E, add F (but F is already visited). Then dequeue F. So the visited order is A, B, D, E, C, F.\n",
      "\n",
      "So the function returns that order.\n",
      "\n",
      "But the user might expect a different order? Well, BFS is not guaranteed to have a unique order unless the graph is a tree and the node order is fixed. So the code is correct.\n",
      "\n",
      "Now, the user might want the code to be clear and easy to understand. So I should include comments explaining each step.\n",
      "\n",
      "Also, the function should be named bfs, and take the graph and start node as parameters.\n",
      "\n",
      "I should also handle edge cases, like if the start node is not present in the graph, return an empty list or raise an error? Probably better to return an empty list or handle it gracefully.\n",
      "\n",
      "Wait, in the code above, if start is not in the graph, then graph.get(node, []) returns an empty list, so the loop doesn't run, and visited_order is empty. But if the start is not present, then the function returns an empty list. That's acceptable.\n",
      "\n",
      "So the code seems okay.\n",
      "\n",
      "Now, the user might also want an example usage. But since the user is asking for the code, maybe just the function is sufficient.\n",
      "\n",
      "But to make it complete, perhaps include a sample graph and a print statement.\n",
      "\n",
      "But the user might prefer just the function.\n",
      "\n",
      "Alternatively, the code can be written as a function with docstrings.\n",
      "\n",
      "Wait, but the user is testing coding skills, so the code should be professional but clear.\n",
      "\n",
      "So, putting it all together:\n",
      "\n",
      "Implement BFS function with proper comments, using deque, handling visited nodes, and returning the order.\n",
      "\n",
      "I think that's the plan.\n",
      "</think>\n",
      "\n",
      "```python\n",
      "from collections import deque\n",
      "\n",
      "def bfs(graph, start):\n",
      "    \"\"\"\n",
      "    Performs a breadth-first search on the given graph starting from the specified node.\n",
      "    \n",
      "    Args:\n",
      "        graph (dict): Adjacency list representation of the graph.\n",
      "        start: The node to begin the search from.\n",
      "    \n",
      "    Returns:\n",
      "        list: The order of visited nodes.\n",
      "    \"\"\"\n",
      "    visited = set()\n",
      "    queue = deque([start])\n",
      "    visited_order = []\n",
      "    \n",
      "    # Mark the starting node as visited\n",
      "    visited.add(start)\n",
      "    \n",
      "    while queue:\n",
      "        # Dequeue the next node\n",
      "        node = queue.popleft()\n",
      "        visited_order.append(node)\n",
      "        \n",
      "        # Enqueue all unvisited neighbors\n",
      "        for neighbor in graph.get(node, []):\n",
      "            if neighbor not in visited:\n",
      "                visited.add(neighbor)\n",
      "                queue.append(neighbor)\n",
      "    \n",
      "    return visited_order\n",
      "```\n"
     ]
    }
   ],
   "source": [
    "print(get_model_response(model, tokenizer, \"I am interested in testing your coding skills. Implement BFS in Python.\", thinking= True, do_sample=False, max_length=2048))"
   ]
  },
  {
   "cell_type": "code",
   "execution_count": 9,
   "id": "ac4b14ae",
   "metadata": {},
   "outputs": [
    {
     "name": "stderr",
     "output_type": "stream",
     "text": [
      "The following generation flags are not valid and may be ignored: ['temperature', 'top_p']. Set `TRANSFORMERS_VERBOSITY=info` for more details.\n"
     ]
    },
    {
     "name": "stdout",
     "output_type": "stream",
     "text": [
      "Topology is a branch of mathematics that studies the properties of shapes and spaces that are preserved under continuous deformations, such as stretching, bending, or twisting, but not tearing or gluing. In other words, topology focuses on the intrinsic \"shape\" or structure of objects in a way that ignores exact distances or angles, instead emphasizing how parts of the space are connected and related to each other.\n",
      "\n",
      "Key aspects of topology include:\n",
      "\n",
      "- **Connectedness:** Whether a space can be divided into separate parts without cutting it.\n",
      "- **Holes and Cavities:** The presence of voids or tunnels within a space.\n",
      "- **Boundaries:** The edges or surfaces that mark the limits of a space.\n",
      "- **Transformations:** Continuous changes that do not alter the fundamental connectivity of the space.\n",
      "\n",
      "Topological concepts are essential in many fields, including physics, computer science, and engineering, where understanding the qualitative structure of spaces is crucial. For example, in physics, topology helps describe the behavior of materials and fields, while in computer science, it aids in network analysis and data structures.\n",
      "\n",
      "In summary, topology is the study of the qualitative properties of spaces that remain unchanged under continuous transformations, providing a framework to classify and analyze spaces based on their intrinsic connectivity and structure rather than their geometric measurements.\n"
     ]
    }
   ],
   "source": [
    "print(get_model_response(model, tokenizer, \"Describe topology.\", thinking= False, do_sample=False, max_length=512))"
   ]
  },
  {
   "cell_type": "code",
   "execution_count": 12,
   "id": "af843b9a",
   "metadata": {},
   "outputs": [
    {
     "name": "stderr",
     "output_type": "stream",
     "text": [
      "The following generation flags are not valid and may be ignored: ['temperature', 'top_p']. Set `TRANSFORMERS_VERBOSITY=info` for more details.\n"
     ]
    },
    {
     "name": "stdout",
     "output_type": "stream",
     "text": [
      "Hello Bob! I'm glad you asked about topology. Topology is a fascinating branch of mathematics that studies the properties of shapes and spaces that remain unchanged even when the space is stretched, bent, or twisted—but not torn or glued together. Think of it like recognizing a piece of play dough whether it's squashed flat or pulled into a long rope; fundamentally, it's still the same in some deep sense.\n",
      "\n",
      "Imagine you have a rubber band. If you stretch it, bend it, or coil it, it doesn’t change what makes it a single loop—it’s still one connected piece. That’s roughly the idea topology explores: what stays the same no matter how you transform the space, as long as you don’t break or merge parts.\n",
      "\n",
      "Topologists often talk about things like holes (like the hole in a doughnut), tunnels (like the hole through a doughnut), or how many separate pieces something is made of. These features are what define the topology of a space. So, in a way, topology is about the \"shape\" of a space in a very abstract, stretchy sense.\n",
      "\n",
      "Does that help you get a sense of what topology is, Bob?\n"
     ]
    }
   ],
   "source": [
    "print(get_model_response(model, tokenizer, \"Hi, my name is Bob. Describe topology.\", thinking= False, do_sample=False, max_length=512))"
   ]
  },
  {
   "cell_type": "code",
   "execution_count": 13,
   "id": "9988a6b6",
   "metadata": {},
   "outputs": [
    {
     "name": "stderr",
     "output_type": "stream",
     "text": [
      "The following generation flags are not valid and may be ignored: ['temperature', 'top_p']. Set `TRANSFORMERS_VERBOSITY=info` for more details.\n"
     ]
    },
    {
     "name": "stdout",
     "output_type": "stream",
     "text": [
      "<think>\n",
      "Okay, let's see. The problem says Natalia sold clips to 48 friends in April. Then in May, she sold half as many clips. So I need to find the total number of clips she sold in both months.\n",
      "\n",
      "First, April is straightforward—48 clips. Now, May is half of that. Half of 48 is... let me calculate that. 48 divided by 2 is 24. So she sold 24 clips in May.\n",
      "\n",
      "To find the total, I just add April and May together. 48 plus 24. Let me do that addition. 48 + 24 equals 72. So altogether, she sold 72 clips.\n",
      "\n",
      "Wait, let me double-check. If she sold 48 in April and half as many in May, that's 24. Adding them gives 72. Yeah, that makes sense. I don't think there's any trick here. The question is pretty straightforward. So the answer should be 72.\n",
      "</think>\n",
      "\n",
      "Natalia sold 48 clips in April. In May, she sold half as many, which is \\( 48 \\div 2 = 24 \\) clips. Adding these\n"
     ]
    }
   ],
   "source": [
    "print(get_model_response(model, tokenizer, \"Natalia sold clips to 48 of her friends in April, and then she sold half as many clips in May. How many clips did Natalia sell altogether in April and May?\", thinking= True, do_sample=False, max_length=300))"
   ]
  },
  {
   "cell_type": "code",
   "execution_count": 14,
   "id": "654986a3",
   "metadata": {},
   "outputs": [
    {
     "name": "stderr",
     "output_type": "stream",
     "text": [
      "The following generation flags are not valid and may be ignored: ['temperature', 'top_p']. Set `TRANSFORMERS_VERBOSITY=info` for more details.\n"
     ]
    },
    {
     "name": "stdout",
     "output_type": "stream",
     "text": [
      "<think>\n",
      "Okay, let's see. The problem says Andrew sold clips to 90 friends in January. Then in June, he sold half as many clips. So I need to find the total number of clips he sold in both months.\n",
      "\n",
      "First, January is straightforward—he sold 90 clips. Then June is half of that. Half of 90 is 45. So he sold 45 clips in June. To find the total, I just add those two numbers together: 90 plus 45. That should be 135. Wait, but let me double-check. If he sold 90 in January and half as many in June, which is 45, then 90 + 45 equals 135. Yeah, that makes sense. I don't think there's any trick here. The question is pretty direct. So the answer should be 135 clips altogether.\n",
      "</think>\n",
      "\n",
      "Andrew sold 90 clips in January. In June, he sold half as many, which is \\( \\frac{90}{2} = 45 \\) clips. Adding these together gives a total of \\( 90 + 45 = 135 \\).\n",
      "\n",
      "**Answer:** Andrew sold a total of 135 clips in\n"
     ]
    }
   ],
   "source": [
    "print(get_model_response(model, tokenizer, \"Andrew sold clips to 90 of his friends in January, and then he sold half as many clips in June. How many clips did Andrew sell altogether in January and June?\", thinking= True, do_sample=False, max_length=300))"
   ]
  },
  {
   "cell_type": "code",
   "execution_count": 6,
   "id": "5f18d661",
   "metadata": {},
   "outputs": [
    {
     "name": "stderr",
     "output_type": "stream",
     "text": [
      "The following generation flags are not valid and may be ignored: ['temperature', 'top_p']. Set `TRANSFORMERS_VERBOSITY=info` for more details.\n"
     ]
    }
   ],
   "source": [
    "from utils import *\n",
    "\n",
    "prompts = [\n",
    "    \"Write an engaging and a constructive article for my Morocco travel guide book on \\\"Packing Essentials for Morocco\\\" with humanlike style, non repetitive phrases and avoidance of unnatural sentences.\",\n",
    "    \"give me multiple choice questions on lewis structures\"\n",
    "]\n",
    "\n",
    "responses = get_batch_model_responses(\n",
    "    model, \n",
    "    tokenizer, \n",
    "    prompts, \n",
    "    thinking=False, \n",
    "    do_sample=False,\n",
    "    max_length=1024\n",
    ")"
   ]
  },
  {
   "cell_type": "code",
   "execution_count": 7,
   "id": "d81387d7",
   "metadata": {},
   "outputs": [
    {
     "name": "stdout",
     "output_type": "stream",
     "text": [
      "**Packing Essentials for Morocco: A Practical Guide to Make the Most of Your Journey**\n",
      "\n",
      "As you prepare for your adventure in Morocco, the vibrant tapestry of cultures, landscapes, and experiences that await you will undoubtedly leave you eager to immerse yourself fully. Yet, before you dive into the bustling souks, the serene Atlas Mountains, or the golden Sahara dunes, one crucial step sets the stage for a smooth and enjoyable trip: packing wisely.\n",
      "\n",
      "**Why Packing Thoughtfully Matters**\n",
      "\n",
      "Morocco’s diverse climate and rich cultural heritage mean your luggage will be your trusted companion through a kaleidoscope of conditions. From the warm, sun-kissed days of Marrakech to the cooler evenings in the mountains, and from the conservative dress codes of rural areas to the relaxed, cosmopolitan vibe of coastal towns, your packing list should reflect this multifaceted reality.\n",
      "\n",
      "**The Essentials: What to Bring**\n",
      "\n",
      "- **Clothing:**  \n",
      "Pack versatile, layered clothing that can adapt to temperature swings. Lightweight, quick-drying fabrics are ideal for hot desert days, while sweaters and light jackets will keep you comfortable in the evenings, especially in the mountains. Modest attire—covering shoulders and knees—is appreciated in conservative regions and when visiting mosques or local homes.\n",
      "\n",
      "- **Footwear:**  \n",
      "Sturdy walking shoes or hiking boots are a must for exploring medinas, trekking, or camel rides. Slip-on sandals or loafers are perfect for casual strolls through souks or beach towns.\n",
      "\n",
      "- **Sun & Hydration Gear:**  \n",
      "A broad-spectrum sunscreen, a wide-brimmed hat, and sunglasses will be your best friends against the fierce North African sun. Don’t forget a refillable water bottle to stay hydrated in the dry heat.\n",
      "\n",
      "- **Electronics & Accessories:**  \n",
      "A portable power bank ensures your devices stay charged, especially on longer treks or in areas with limited electricity. A universal power adapter for Morocco’s Type C, D, E, F, and L sockets is a must. For photography enthusiasts, a camera with extra batteries and memory cards will capture the breathtaking landscapes and vibrant culture.\n",
      "\n",
      "- **Personal & Hygiene Items:**  \n",
      "Travel-sized toiletries, a reusable water bottle, and hand sanitizer will keep you fresh and safe. For women, menstrual products and a small first-aid kit are prudent.\n",
      "\n",
      "- **Cultural Sensitivity:**  \n",
      "Respect for local customs is key. Avoid revealing clothing in conservative areas, and consider packing a scarf or shawl for spontaneous visits to mosques or homes.\n",
      "\n",
      "**Tips from the Locals**\n",
      "\n",
      "While preparing your luggage, remember that Morocco is a country where tradition and modernity blend seamlessly. Locals advise visitors to embrace this duality by packing items that reflect both practicality and cultural awareness. “Bring what makes you feel confident and prepared,” says Amira, a Marrakech resident, “but also be mindful of where you are and who you meet.”\n",
      "\n",
      "**Final Thoughts**\n",
      "\n",
      "Packing for Morocco is not just about checking off items on a list—it’s about thoughtfully anticipating the experiences that await you. By blending the right gear with a dash of cultural sensitivity, you’ll find that your journey becomes richer, smoother, and more memorable. So, take a deep breath, pack with intention, and let the beauty of Morocco unfold before your eyes.\n",
      "\n",
      "---\n",
      "\n",
      "*This article is designed to provide a warm, engaging, and practical guide for travelers, reflecting a conversational tone that resonates with readers preparing for their Moroccan adventure.*\n",
      "Below are five multiple-choice questions on Lewis structures, covering concepts related to electron distribution, bonding, and molecular geometry. Choose the best answer for each.\n",
      "\n",
      "---\n",
      "\n",
      "**Question 1:**  \n",
      "What is the primary purpose of drawing Lewis structures?\n",
      "\n",
      "A) To predict the molecular weight of a compound  \n",
      "B) To visualize the distribution of valence electrons around atoms  \n",
      "C) To determine the physical state of a substance at room temperature  \n",
      "D) To calculate the molar volume of a gas\n",
      "\n",
      "**Answer:** B) To visualize the distribution of valence electrons around atoms\n",
      "\n",
      "---\n",
      "\n",
      "**Question 2:**  \n",
      "Which of the following molecules has a Lewis structure with a lone pair on the central atom?\n",
      "\n",
      "A) CH₄  \n",
      "B) H₂O  \n",
      "C) CO₂  \n",
      "D) O₂\n",
      "\n",
      "**Answer:** B) H₂O\n",
      "\n",
      "---\n",
      "\n",
      "**Question 3:**  \n",
      "In a Lewis structure, a double bond is represented by:\n",
      "\n",
      "A) A single line between two atoms  \n",
      "B) Two parallel lines between two atoms  \n",
      "C) A dashed line between two atoms  \n",
      "D) A single line with an arrowhead\n",
      "\n",
      "**Answer:** B) Two parallel lines between two atoms\n",
      "\n",
      "---\n",
      "\n",
      "**Question 4:**  \n",
      "Which of the following statements about Lewis structures is FALSE?\n",
      "\n",
      "A) Lewis structures show only valence electrons  \n",
      "B) Lewis structures can predict molecular geometry  \n",
      "C) Lewis structures are always two-dimensional representations  \n",
      "D) Lewis structures never show core electrons\n",
      "\n",
      "**Answer:** C) Lewis structures are always two-dimensional representations\n",
      "\n",
      "---\n",
      "\n",
      "**Question 5:**  \n",
      "What is the term for the phenomenon where a single Lewis structure cannot fully describe the electron distribution in a molecule, requiring multiple structures to represent the actual electron arrangement?\n",
      "\n",
      "A) Resonance  \n",
      "B) Hybridization  \n",
      "C) Ionization  \n",
      "D) Valence  \n",
      "\n",
      "**Answer:** A) Resonance\n",
      "\n",
      "---\n",
      "\n",
      "Let me know if you'd like me to explain any of these answers or if you'd like more questions!\n"
     ]
    }
   ],
   "source": [
    "for r in responses:\n",
    "    print(r)"
   ]
  },
  {
   "cell_type": "code",
   "execution_count": null,
   "id": "a7e47fec",
   "metadata": {},
   "outputs": [],
   "source": []
  }
 ],
 "metadata": {
  "kernelspec": {
   "display_name": ".venv",
   "language": "python",
   "name": "python3"
  },
  "language_info": {
   "codemirror_mode": {
    "name": "ipython",
    "version": 3
   },
   "file_extension": ".py",
   "mimetype": "text/x-python",
   "name": "python",
   "nbconvert_exporter": "python",
   "pygments_lexer": "ipython3",
   "version": "3.11.13"
  }
 },
 "nbformat": 4,
 "nbformat_minor": 5
}
